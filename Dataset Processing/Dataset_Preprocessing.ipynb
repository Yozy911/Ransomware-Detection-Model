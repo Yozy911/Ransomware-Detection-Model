{
 "cells": [
  {
   "cell_type": "code",
   "execution_count": 1,
   "id": "43346daf",
   "metadata": {
    "scrolled": true
   },
   "outputs": [],
   "source": [
    "import pandas as pd\n",
    "import numpy as np\n",
    "\n",
    "\n",
    "#Import the txt file with the dataset labels\n",
    "with open('VariableNames.txt', 'r+',  encoding=\"utf8\") as f:\n",
    "    contents = f.readlines()\n",
    "\n",
    "#Insert the txt file to a pandas dataframe\n",
    "data = pd.DataFrame(contents)\n",
    "df = data.replace('\\n','', regex =True)\n",
    "new_df = df.transpose()                                #transpose to 1 row x 30967 columns\n",
    "\n",
    "#Import dataset\n",
    "data1= pd.read_csv('RansomwareData.csv', header=None)\n",
    "XX= data1.drop([0,2],axis=1).values                  #drop irrelevant columns\n",
    "X1 = pd.DataFrame(XX)\n",
    "\n",
    "dataset = pd.concat([new_df, X1], ignore_index =True)            #Concat datframes to create final set\n",
    "dataset.to_csv('./../Dataset.csv', index = False, header = False)    #export prepared dataset\n"
   ]
  },
  {
   "cell_type": "code",
   "execution_count": null,
   "id": "5a3e3b2b",
   "metadata": {},
   "outputs": [],
   "source": []
  }
 ],
 "metadata": {
  "kernelspec": {
   "display_name": "MU_Capstone",
   "language": "python",
   "name": "mu_capstone"
  },
  "language_info": {
   "codemirror_mode": {
    "name": "ipython",
    "version": 3
   },
   "file_extension": ".py",
   "mimetype": "text/x-python",
   "name": "python",
   "nbconvert_exporter": "python",
   "pygments_lexer": "ipython3",
   "version": "3.10.4"
  }
 },
 "nbformat": 4,
 "nbformat_minor": 5
}
